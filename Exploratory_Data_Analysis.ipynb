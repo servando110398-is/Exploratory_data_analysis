{
    "cells": [
        {
            "cell_type": "markdown",
            "metadata": {},
            "source": "Taking a look at the dataset\n"
        },
        {
            "cell_type": "code",
            "execution_count": null,
            "metadata": {},
            "outputs": [],
            "source": [
                "billionaire.data = read.csv(\"C:\\\\Users\\\\Servando\\\\Downloads\\\\archive (34)\\\\Billionaire.csv\")\n",
                "head(billionaire.data)\n"
            ]
        },
        {
            "cell_type": "markdown",
            "metadata": {},
            "source": [
                "Checking for type errors and fixing them with casting.(Data Cleaning)\n",
                "\n"
            ]
        },
        {
            "cell_type": "code",
            "execution_count": null,
            "metadata": {},
            "outputs": [],
            "source": [
                "require(\"readr\")\n",
                "#Checking types\n",
                "typeof(billionaire.data$NetWorth)\n",
                "typeof(billionaire.data$Age)\n",
                "#Changing types to appropiate ones\n",
                "billionaire.data$NetWorth <- as.numeric(parse_number(billionaire.data$NetWorth))\n",
                "billionaire.data$Age <- as.numeric(billionaire.data$Age)\n",
                "#Changing column name\n",
                "colnames(billionaire.data)[2]<-\"Net_Worth_Billions\"\n",
                "#Checking dataframe\n",
                "head(billionaire.data)\n"
            ]
        },
        {
            "cell_type": "markdown",
            "metadata": {},
            "source": [
                "How does the five number summary look like for net worth? What’s the standard deviation?\n",
                "\n"
            ]
        },
        {
            "cell_type": "code",
            "execution_count": null,
            "metadata": {},
            "outputs": [],
            "source": [
                "summary(billionaire.data$Net_Worth_Billions)\n",
                "sd(na.omit(billionaire.data$Net_Worth_Billions))\n"
            ]
        },
        {
            "cell_type": "markdown",
            "metadata": {},
            "source": "Let’s figure out how the distribution looks like.\n"
        },
        {
            "cell_type": "code",
            "execution_count": null,
            "metadata": {},
            "outputs": [],
            "source": [
                "require(\"ggplot2\")\n",
                "require(\"moments\")\n",
                "Networth_billions <- billionaire.data$Net_Worth_Billions\n",
                "skewness(billionaire.data$Net_Worth_Billions)\n",
                "\n",
                "ggplot ( data = billionaire.data)+geom_histogram(mapping = aes(x =Net_Worth_Billions ),binwidth = 0.5,color = \"darkgreen\")+ggtitle(\"Net Worth Frequency Distribution\")\n"
            ]
        },
        {
            "cell_type": "markdown",
            "metadata": {},
            "source": "What’s the number of billionaires per industry?\n"
        },
        {
            "cell_type": "code",
            "execution_count": null,
            "metadata": {},
            "outputs": [],
            "source": [
                "require(\"dplyr\")\n",
                "require(\"wesanderson\")\n",
                "by.industry <- billionaire.data %>%\n",
                "group_by(Industry) %>%\n",
                "summarise(number.of.billionaires <- n()\n",
                ")\n",
                "\n",
                "by.industry$Industry<- factor(by.industry$Industry,levels = by.industry$Industry[order(by.industry$`number.of.billionaires <- n()`)])\n",
                "par(mar=c(19,4,4,1))\n",
                "industry.plot <- ggplot(data = by.industry, aes(x = Industry, y =`number.of.billionaires <- n()` , fill =Industry ))+ geom_bar(stat = \"identity\") +ggtitle(\"Number of Billionaires by Industry\") +\n",
                "  geom_text(aes(label =`number.of.billionaires <- n()` ), hjust =1 ,color = \"white\", size = 3.5)+\n",
                "  theme_minimal()+coord_flip() \n",
                "industry.plot + theme_bw() \n",
                "\n",
                "  \n"
            ]
        },
        {
            "cell_type": "markdown",
            "metadata": {},
            "source": [
                "\n",
                "Now, let’s break it down by country.\n"
            ]
        },
        {
            "cell_type": "code",
            "execution_count": null,
            "metadata": {},
            "outputs": [],
            "source": [
                "by.country <- billionaire.data %>%\n",
                "group_by(Country) %>%\n",
                "summarise(number.of.billionaires <- n()\n",
                ")\n",
                "by.country <- by.country[order(-by.country$`number.of.billionaires <- n()`),]\n",
                "colnames(by.country)[2]<-\"Number of Billionaires\"\n",
                "top<- top_n(by.country,5)\n",
                "top$Country<- factor(top$Country,levels = top$Country[order(top$`Number of Billionaires`)])\n",
                "group.colors <-c(`United States` = \"darkblue\", China=\"Darkred\",India = \"Orange\",Germany=\"Darkgreen\",Russia = \"purple\")\n",
                "ggplot(data = top, aes(x = Country, y =`Number of Billionaires`,fill = Country ))+\n",
                "  geom_bar(stat = \"identity\")+ coord_flip() +ggtitle(\"Top 5 Countries with Most Billionaires\") +\n",
                "  geom_text(aes(label = `Number of Billionaires`), hjust = -.1 , size = 3.5)+\n",
                "  theme_minimal() + scale_fill_manual(values=group.colors)\n"
            ]
        },
        {
            "cell_type": "markdown",
            "metadata": {},
            "source": [
                "\n",
                "Let’s check for a correlation between age and NetWorth.\n"
            ]
        },
        {
            "cell_type": "code",
            "execution_count": null,
            "metadata": {},
            "outputs": [],
            "source": [
                "require(\"ggplot2\")\n",
                "par(mar=c(10,6,6,1))\n",
                "ggplot(billionaire.data) + geom_point(mapping = aes(x = Age , y = Net_Worth_Billions ,color=Industry))+\n",
                "  ggtitle(\"Correlation Between Net Worth and Age by Industry\")\n"
            ]
        },
        {
            "cell_type": "markdown",
            "metadata": {},
            "source": "Let’s look at the five number summary of the billionaires’ age.\n"
        },
        {
            "cell_type": "code",
            "execution_count": null,
            "metadata": {},
            "outputs": [],
            "source": [
                "summary(billionaire.data$Age)\n",
                "\n"
            ]
        },
        {
            "cell_type": "markdown",
            "metadata": {},
            "source": "Now, Let's compare the age of billionaires of the 5 industries with most billionaires\n"
        },
        {
            "cell_type": "code",
            "execution_count": null,
            "metadata": {},
            "outputs": [],
            "source": [
                "five.industries <- billionaire.data %>% filter(Industry == c(\"Finance & Investments\",\"Technology\",\"Manufacturing\",\"Fashion & Retail\",\"Healthcare\"))\n",
                "\n",
                "agesplot <- ggplot(data = five.industries , mapping = aes(x=reorder(Industry,Age,FUN=median), y = Age, fill = Industry)) +\n",
                "  geom_boxplot() +\n",
                "  coord_flip()\n",
                "\n",
                "agesplot\n"
            ]
        },
        {
            "cell_type": "markdown",
            "metadata": {},
            "source": "Now, let's see how that comparison it's like for net worth\n"
        },
        {
            "cell_type": "code",
            "execution_count": null,
            "metadata": {},
            "outputs": [],
            "source": [
                "ggplot(data = five.industries , mapping = aes(x=reorder(Industry,Net_Worth_Billions,FUN=median), y = Net_Worth_Billions, fill = Industry)) +\n",
                "  geom_boxplot() +\n",
                "  coord_flip()\n"
            ]
        },
        {
            "cell_type": "markdown",
            "metadata": {},
            "source": "\n"
        }
    ],
    "metadata": {
        "anaconda-cloud": "",
        "kernelspec": {
            "display_name": "R",
            "langauge": "R",
            "name": "ir"
        },
        "language_info": {
            "codemirror_mode": "r",
            "file_extension": ".r",
            "mimetype": "text/x-r-source",
            "name": "R",
            "pygments_lexer": "r",
            "version": "3.4.1"
        }
    },
    "nbformat": 4,
    "nbformat_minor": 1
}
